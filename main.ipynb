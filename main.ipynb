{
 "cells": [
  {
   "cell_type": "markdown",
   "metadata": {},
   "source": [
    "# Import statements\n",
    "\n",
    "- `import os` to read and write files\n",
    "- `import pandas` for data manipulation\n",
    "- `import openai` to use OpenAI for embedding models\n",
    "- `import pinecone` to use Pinecone as the vector database\n",
    "- `import tqdm` to show progress as a code cell runs"
   ]
  },
  {
   "cell_type": "code",
   "execution_count": 1,
   "metadata": {},
   "outputs": [
    {
     "name": "stderr",
     "output_type": "stream",
     "text": [
      "/Users/abhinavkompella/Library/Python/3.9/lib/python/site-packages/urllib3/__init__.py:35: NotOpenSSLWarning: urllib3 v2 only supports OpenSSL 1.1.1+, currently the 'ssl' module is compiled with 'LibreSSL 2.8.3'. See: https://github.com/urllib3/urllib3/issues/3020\n",
      "  warnings.warn(\n"
     ]
    }
   ],
   "source": [
    "import os\n",
    "import pandas as pd\n",
    "import openai\n",
    "import pinecone\n",
    "from tqdm.notebook import tqdm"
   ]
  },
  {
   "cell_type": "markdown",
   "metadata": {},
   "source": [
    "# Setting up API keys"
   ]
  },
  {
   "cell_type": "code",
   "execution_count": 2,
   "metadata": {},
   "outputs": [],
   "source": [
    "# If using .env file, load it\n",
    "try:\n",
    "    from dotenv import load_dotenv\n",
    "    load_dotenv()\n",
    "except:\n",
    "    pass\n",
    "\n",
    "# Access the API keys\n",
    "openai.api_key = os.getenv(\"OPENAI_API_KEY\")\n",
    "pinecone_api_key = os.getenv(\"PINECONE_API_KEY\")"
   ]
  },
  {
   "cell_type": "markdown",
   "metadata": {},
   "source": [
    "# Load csv data"
   ]
  },
  {
   "cell_type": "code",
   "execution_count": 3,
   "metadata": {},
   "outputs": [
    {
     "data": {
      "text/html": [
       "<div>\n",
       "<style scoped>\n",
       "    .dataframe tbody tr th:only-of-type {\n",
       "        vertical-align: middle;\n",
       "    }\n",
       "\n",
       "    .dataframe tbody tr th {\n",
       "        vertical-align: top;\n",
       "    }\n",
       "\n",
       "    .dataframe thead th {\n",
       "        text-align: right;\n",
       "    }\n",
       "</style>\n",
       "<table border=\"1\" class=\"dataframe\">\n",
       "  <thead>\n",
       "    <tr style=\"text-align: right;\">\n",
       "      <th></th>\n",
       "      <th>Topic</th>\n",
       "      <th>URL</th>\n",
       "      <th>Description</th>\n",
       "      <th>Combine_text</th>\n",
       "      <th>lemmatized_text</th>\n",
       "    </tr>\n",
       "  </thead>\n",
       "  <tbody>\n",
       "    <tr>\n",
       "      <th>0</th>\n",
       "      <td>Identify risk factors</td>\n",
       "      <td>https://rhlaiservice2.blob.core.windows.net/hm...</td>\n",
       "      <td>A woman is at a risk of getting an infection i...</td>\n",
       "      <td>identify risk factors a woman is at a risk of ...</td>\n",
       "      <td>identify risk factor a woman be at a risk of g...</td>\n",
       "    </tr>\n",
       "    <tr>\n",
       "      <th>1</th>\n",
       "      <td>Measure temperature</td>\n",
       "      <td>https://rhlaiservice2.blob.core.windows.net/hm...</td>\n",
       "      <td>Here's how to determine the baby's temperature...</td>\n",
       "      <td>measure temperature here's how to determine th...</td>\n",
       "      <td>measure temperature here 's how to determine t...</td>\n",
       "    </tr>\n",
       "    <tr>\n",
       "      <th>2</th>\n",
       "      <td>Weigh the baby</td>\n",
       "      <td>https://rhlaiservice2.blob.core.windows.net/hm...</td>\n",
       "      <td>Here's how to take the baby's weight? An accur...</td>\n",
       "      <td>weigh the baby here's how to take the baby's w...</td>\n",
       "      <td>weigh the baby here 's how to take the baby 's...</td>\n",
       "    </tr>\n",
       "    <tr>\n",
       "      <th>3</th>\n",
       "      <td>Examine the baby</td>\n",
       "      <td>https://rhlaiservice2.blob.core.windows.net/hm...</td>\n",
       "      <td>The baby's exam is best done on the first day ...</td>\n",
       "      <td>examine the baby the baby's exam is best done ...</td>\n",
       "      <td>examine the baby the baby 's exam be best do o...</td>\n",
       "    </tr>\n",
       "    <tr>\n",
       "      <th>4</th>\n",
       "      <td>Count a baby's breaths</td>\n",
       "      <td>https://rhlaiservice2.blob.core.windows.net/hm...</td>\n",
       "      <td>Here's how to count the baby's breaths. Newbor...</td>\n",
       "      <td>count a baby's breaths here's how to count the...</td>\n",
       "      <td>count a baby 's breath here 's how to count th...</td>\n",
       "    </tr>\n",
       "  </tbody>\n",
       "</table>\n",
       "</div>"
      ],
      "text/plain": [
       "                    Topic                                                URL  \\\n",
       "0   Identify risk factors  https://rhlaiservice2.blob.core.windows.net/hm...   \n",
       "1     Measure temperature  https://rhlaiservice2.blob.core.windows.net/hm...   \n",
       "2          Weigh the baby  https://rhlaiservice2.blob.core.windows.net/hm...   \n",
       "3        Examine the baby  https://rhlaiservice2.blob.core.windows.net/hm...   \n",
       "4  Count a baby's breaths  https://rhlaiservice2.blob.core.windows.net/hm...   \n",
       "\n",
       "                                         Description  \\\n",
       "0  A woman is at a risk of getting an infection i...   \n",
       "1  Here's how to determine the baby's temperature...   \n",
       "2  Here's how to take the baby's weight? An accur...   \n",
       "3  The baby's exam is best done on the first day ...   \n",
       "4  Here's how to count the baby's breaths. Newbor...   \n",
       "\n",
       "                                        Combine_text  \\\n",
       "0  identify risk factors a woman is at a risk of ...   \n",
       "1  measure temperature here's how to determine th...   \n",
       "2  weigh the baby here's how to take the baby's w...   \n",
       "3  examine the baby the baby's exam is best done ...   \n",
       "4  count a baby's breaths here's how to count the...   \n",
       "\n",
       "                                     lemmatized_text  \n",
       "0  identify risk factor a woman be at a risk of g...  \n",
       "1  measure temperature here 's how to determine t...  \n",
       "2  weigh the baby here 's how to take the baby 's...  \n",
       "3  examine the baby the baby 's exam be best do o...  \n",
       "4  count a baby 's breath here 's how to count th...  "
      ]
     },
     "execution_count": 3,
     "metadata": {},
     "output_type": "execute_result"
    }
   ],
   "source": [
    "df = pd.read_csv('preprocessed_data.csv')\n",
    "\n",
    "df.head()"
   ]
  },
  {
   "cell_type": "markdown",
   "metadata": {},
   "source": [
    "# Generate embeddings using OpenAI models\n",
    "\n",
    "We will be using text-embedding-3-small as the embedding model. This is OpenAI's new and fastest model"
   ]
  },
  {
   "cell_type": "code",
   "execution_count": 4,
   "metadata": {},
   "outputs": [],
   "source": [
    "def get_embedding(text, model=\"text-embedding-3-small\"):\n",
    "    response = openai.embeddings.create(\n",
    "        input=text,\n",
    "        model=model\n",
    "    )\n",
    "    embedding = response.data[0].embedding\n",
    "    return embedding"
   ]
  },
  {
   "cell_type": "code",
   "execution_count": 5,
   "metadata": {},
   "outputs": [
    {
     "data": {
      "application/vnd.jupyter.widget-view+json": {
       "model_id": "9a1904e1f5ff4276927f3b5c149b9e3b",
       "version_major": 2,
       "version_minor": 0
      },
      "text/plain": [
       "  0%|          | 0/39 [00:00<?, ?it/s]"
      ]
     },
     "metadata": {},
     "output_type": "display_data"
    }
   ],
   "source": [
    "tqdm.pandas()\n",
    "\n",
    "df['embedding'] = df['lemmatized_text'].progress_apply(lambda x: get_embedding(x))"
   ]
  },
  {
   "cell_type": "code",
   "execution_count": 6,
   "metadata": {},
   "outputs": [
    {
     "data": {
      "text/html": [
       "<div>\n",
       "<style scoped>\n",
       "    .dataframe tbody tr th:only-of-type {\n",
       "        vertical-align: middle;\n",
       "    }\n",
       "\n",
       "    .dataframe tbody tr th {\n",
       "        vertical-align: top;\n",
       "    }\n",
       "\n",
       "    .dataframe thead th {\n",
       "        text-align: right;\n",
       "    }\n",
       "</style>\n",
       "<table border=\"1\" class=\"dataframe\">\n",
       "  <thead>\n",
       "    <tr style=\"text-align: right;\">\n",
       "      <th></th>\n",
       "      <th>Topic</th>\n",
       "      <th>URL</th>\n",
       "      <th>Description</th>\n",
       "      <th>Combine_text</th>\n",
       "      <th>lemmatized_text</th>\n",
       "      <th>embedding</th>\n",
       "    </tr>\n",
       "  </thead>\n",
       "  <tbody>\n",
       "    <tr>\n",
       "      <th>0</th>\n",
       "      <td>Identify risk factors</td>\n",
       "      <td>https://rhlaiservice2.blob.core.windows.net/hm...</td>\n",
       "      <td>A woman is at a risk of getting an infection i...</td>\n",
       "      <td>identify risk factors a woman is at a risk of ...</td>\n",
       "      <td>identify risk factor a woman be at a risk of g...</td>\n",
       "      <td>[0.01685132086277008, 0.056897733360528946, 0....</td>\n",
       "    </tr>\n",
       "    <tr>\n",
       "      <th>1</th>\n",
       "      <td>Measure temperature</td>\n",
       "      <td>https://rhlaiservice2.blob.core.windows.net/hm...</td>\n",
       "      <td>Here's how to determine the baby's temperature...</td>\n",
       "      <td>measure temperature here's how to determine th...</td>\n",
       "      <td>measure temperature here 's how to determine t...</td>\n",
       "      <td>[0.004066101741045713, 0.007667058613151312, -...</td>\n",
       "    </tr>\n",
       "    <tr>\n",
       "      <th>2</th>\n",
       "      <td>Weigh the baby</td>\n",
       "      <td>https://rhlaiservice2.blob.core.windows.net/hm...</td>\n",
       "      <td>Here's how to take the baby's weight? An accur...</td>\n",
       "      <td>weigh the baby here's how to take the baby's w...</td>\n",
       "      <td>weigh the baby here 's how to take the baby 's...</td>\n",
       "      <td>[0.02262173779308796, 0.020612085238099098, -0...</td>\n",
       "    </tr>\n",
       "    <tr>\n",
       "      <th>3</th>\n",
       "      <td>Examine the baby</td>\n",
       "      <td>https://rhlaiservice2.blob.core.windows.net/hm...</td>\n",
       "      <td>The baby's exam is best done on the first day ...</td>\n",
       "      <td>examine the baby the baby's exam is best done ...</td>\n",
       "      <td>examine the baby the baby 's exam be best do o...</td>\n",
       "      <td>[0.018320854753255844, 0.07097376137971878, 0....</td>\n",
       "    </tr>\n",
       "    <tr>\n",
       "      <th>4</th>\n",
       "      <td>Count a baby's breaths</td>\n",
       "      <td>https://rhlaiservice2.blob.core.windows.net/hm...</td>\n",
       "      <td>Here's how to count the baby's breaths. Newbor...</td>\n",
       "      <td>count a baby's breaths here's how to count the...</td>\n",
       "      <td>count a baby 's breath here 's how to count th...</td>\n",
       "      <td>[0.022354714572429657, 0.0497504286468029, 0.0...</td>\n",
       "    </tr>\n",
       "  </tbody>\n",
       "</table>\n",
       "</div>"
      ],
      "text/plain": [
       "                    Topic                                                URL  \\\n",
       "0   Identify risk factors  https://rhlaiservice2.blob.core.windows.net/hm...   \n",
       "1     Measure temperature  https://rhlaiservice2.blob.core.windows.net/hm...   \n",
       "2          Weigh the baby  https://rhlaiservice2.blob.core.windows.net/hm...   \n",
       "3        Examine the baby  https://rhlaiservice2.blob.core.windows.net/hm...   \n",
       "4  Count a baby's breaths  https://rhlaiservice2.blob.core.windows.net/hm...   \n",
       "\n",
       "                                         Description  \\\n",
       "0  A woman is at a risk of getting an infection i...   \n",
       "1  Here's how to determine the baby's temperature...   \n",
       "2  Here's how to take the baby's weight? An accur...   \n",
       "3  The baby's exam is best done on the first day ...   \n",
       "4  Here's how to count the baby's breaths. Newbor...   \n",
       "\n",
       "                                        Combine_text  \\\n",
       "0  identify risk factors a woman is at a risk of ...   \n",
       "1  measure temperature here's how to determine th...   \n",
       "2  weigh the baby here's how to take the baby's w...   \n",
       "3  examine the baby the baby's exam is best done ...   \n",
       "4  count a baby's breaths here's how to count the...   \n",
       "\n",
       "                                     lemmatized_text  \\\n",
       "0  identify risk factor a woman be at a risk of g...   \n",
       "1  measure temperature here 's how to determine t...   \n",
       "2  weigh the baby here 's how to take the baby 's...   \n",
       "3  examine the baby the baby 's exam be best do o...   \n",
       "4  count a baby 's breath here 's how to count th...   \n",
       "\n",
       "                                           embedding  \n",
       "0  [0.01685132086277008, 0.056897733360528946, 0....  \n",
       "1  [0.004066101741045713, 0.007667058613151312, -...  \n",
       "2  [0.02262173779308796, 0.020612085238099098, -0...  \n",
       "3  [0.018320854753255844, 0.07097376137971878, 0....  \n",
       "4  [0.022354714572429657, 0.0497504286468029, 0.0...  "
      ]
     },
     "execution_count": 6,
     "metadata": {},
     "output_type": "execute_result"
    }
   ],
   "source": [
    "df.head()"
   ]
  },
  {
   "cell_type": "markdown",
   "metadata": {},
   "source": [
    "# Pinecone Initialzation"
   ]
  },
  {
   "cell_type": "code",
   "execution_count": 7,
   "metadata": {},
   "outputs": [],
   "source": [
    "pc = pinecone.Pinecone(api_key=pinecone_api_key)"
   ]
  },
  {
   "cell_type": "markdown",
   "metadata": {},
   "source": [
    "### Setup Pinecone Vector Database"
   ]
  },
  {
   "cell_type": "code",
   "execution_count": 8,
   "metadata": {},
   "outputs": [],
   "source": [
    "index_name = 'rag-project'\n",
    "\n",
    "if index_name not in pc.list_indexes().names():\n",
    "    pc.create_index(\n",
    "        name=index_name,\n",
    "        dimension=1536,\n",
    "        metric='cosine',\n",
    "        spec=pinecone.ServerlessSpec(\n",
    "            cloud='aws',\n",
    "            region='us-east-1'\n",
    "        )\n",
    "    )\n",
    "\n",
    "index = pc.Index(index_name)"
   ]
  },
  {
   "cell_type": "markdown",
   "metadata": {},
   "source": [
    "### Convert embeddings and get data ready to be upserted"
   ]
  },
  {
   "cell_type": "code",
   "execution_count": 9,
   "metadata": {},
   "outputs": [],
   "source": [
    "# Convert embeddings to the required format\n",
    "data = [\n",
    "    (\n",
    "        str(i),  # Unique ID for each vector\n",
    "        df.iloc[i]['embedding'],  # Embedding vector\n",
    "        {\n",
    "            'Topic': df.iloc[i]['Topic'],\n",
    "            'Video URL': df.iloc[i]['URL'],\n",
    "            'Description': df.iloc[i]['Description']\n",
    "        }  # Metadata\n",
    "    )\n",
    "    for i in range(len(df))\n",
    "]"
   ]
  },
  {
   "cell_type": "markdown",
   "metadata": {},
   "source": [
    "### Upsert Data to Pinecone"
   ]
  },
  {
   "cell_type": "code",
   "execution_count": 10,
   "metadata": {},
   "outputs": [
    {
     "data": {
      "application/vnd.jupyter.widget-view+json": {
       "model_id": "51483baf2c7a492fa1887d5d9aa6e586",
       "version_major": 2,
       "version_minor": 0
      },
      "text/plain": [
       "  0%|          | 0/1 [00:00<?, ?it/s]"
      ]
     },
     "metadata": {},
     "output_type": "display_data"
    }
   ],
   "source": [
    "# Define batch size\n",
    "batch_size = 100\n",
    "\n",
    "# Upsert in batches\n",
    "for i in tqdm(range(0, len(data), batch_size)):\n",
    "    batch = data[i:i+batch_size]\n",
    "    index.upsert(vectors=batch)"
   ]
  },
  {
   "cell_type": "markdown",
   "metadata": {},
   "source": [
    "# Test case"
   ]
  },
  {
   "cell_type": "code",
   "execution_count": 11,
   "metadata": {},
   "outputs": [
    {
     "name": "stdout",
     "output_type": "stream",
     "text": [
      "Score: 0.609344363\n",
      "Topic: Feed with cup\n",
      "URL: https://rhlaiservice2.blob.core.windows.net/hmbs-enc2/Feed_with_Cup_CB.mp4\n",
      "Description: When the small baby is awakening to a feed every two to 4 hours, try feeding him by cup. He is ready to cup feed if he can swallow milk without coughing, choking or turning blue. Help the mother recognize the baby's feeding signals. Eyes open, looking around, moving his mouth and his tongue. Feed the baby whenever he signals his hunger. Teach the mother to cup feed by first showing her the steps, then guiding her as she feeds her baby. Have her wash her hands, then pour the baby's measured volume of milk into a small cup. Next, have the mother wrap her baby and hold him in a nearly upright position on her lap. Her hand supports his head and neck. The mother rests the cup lightly\n",
      "on the baby's lower lip. She then tips the cup until the milk reaches the top edge and lets the baby take the milk. A small baby needs to pace himself during cup feeding. Here he pauses. Now there's a burst of lapping and then another short pause. Keep the milk right at the rim of the cup and leave the cup in place, resting lightly on the baby's lower lip. Let the baby feed and watch for signs that he's had enough. Notice now the baby holds his hand up and then starts to fall asleep. Feedback and encouragement will help a mother become confident in feeding her baby. In this next example, again the milk is kept level with the rim of the cup, giving the baby a continuous supply of milk. The baby takes the milk at his own pace. To signal he's done the baby closes his mouth.\n",
      "Related keywords: cup feeding, upright, milk, licking, lapping, pace, pause, mother feeding , signals, milk paladai, spoon, swallow.\n",
      "\n",
      "Score: 0.582319915\n",
      "Topic: Transition to breastfeeding\n",
      "URL: https://rhlaiservice2.blob.core.windows.net/hmbs-enc2/Transition_to_Exclusive_Breastfeeding_CB.mp4\n",
      "Description: Teach the mother to recognize her baby's feeding signals. At first, the baby may only awaken or stir before feedings. As the baby matures, his feeding signals will become more obvious. Have the mother put her baby to her breast even briefly when he signals his hunger. Show her how to position her baby securely so that his head and body are supported. Teach her to express drops of milk into her baby's mouth. At first, he may only swallow once or twice and then fall asleep. If he chokes or turns blue, he's not yet ready to breastfeed. After practice time at the breast, have the mother give the baby his full volume of milk by cup or feeding tube. At this stage, he'll receive almost all his milk this way and very little from the breast. By getting his feeding needs met so easily, he'll grow faster. As the baby matures he'll stay awake longer at the breast and learn to suckle. Suckling helps develop his feeding skills and stimulates the mother's milk production. Once he suckles well, teach the mother how to attach her baby. Have her rub her nipple on his lips and drip milk into his mouth. Be patient. When he opens wide, have her bring him directly onto her breast. Notice the signs of attachment. His mouth is wide open, his chin touches the breast and his cheeks are rounded. More areola is seen above the baby's mouth than below. His jaw drops as he drinks and he pauses briefly as he swallows. Now he's learned to coordinate sucking, swallowing and breathing to breastfeed effectively. Feeding is hard work for a small baby. Watch for signs that the baby has had enough. He may bat at the breast, pull off, cry or fall asleep. Then let him rest skin to skin between the mother's breasts. As the baby matures, his breastfeeding skills will improve. His sucks will become long, strong and regular and his jaw will drop low as he swallows. The baby will learn to take rest, breaks and pace himself. It's important for the mother to build up a generous supply of milk. The flow of milk will be easier for the small baby to access. After her baby feeds, advise the mother to express her milk to keep her supply up. Her breast should feel soft when she's removed enough milk. Gradually increase breastfeeding with less and less supplementation. As a guide, if the baby does not attach well at the breast, give him a full feed by feeding tube or cup. If he attaches well but has frequent long pauses or feeds for less than ten minutes, give half\n",
      "the feed by cup or feeding tube. If the baby feeds well by breast for more than 15 minutes, he does not need extra feeding. At this point, the mother can very gradually reduce\n",
      "the number of times she expresses. Make sure the baby's weight gain continues once he is only breastfeeding, that he is content after feeds, and that he has frequent yellow stools, four or more each day.\n",
      "Related keywords: transition to breastfeeding, exclusive breastfeeding, feeding, breast, baby feeding readiness, drops of milk, attachment, matures, sliding scale, feeding supplementation, immature feeding, effective feeding, sucking, pacing, paced feeding, cup feeding, tube feeding.\n",
      "\n",
      "Score: 0.56727463\n",
      "Topic: Improve supply of milk\n",
      "URL: https://rhlaiservice2.blob.core.windows.net/hmbs-enc2/Improve_Supply_of_Milk_CB.mp4\n",
      "Description: If a mother thinks her baby is not getting enough milk, how can she increase her baby's intake? First improve the attachment. If the baby is attached only on the nipple, the baby gets very little milk; but, when he takes more of the breast in his mouth, milk comes easily. This deep attachment enables the baby to remove more milk from the breast which then stimulates the breast to make more milk enough for the baby's needs. Babies may not be well attached but because the mother makes abundant milk at first, babies may thrive over a few months though. If the baby is not well attached, he won't take all the milk the mother is making and her supply will decrease. Her baby will start to be restless at the breast, pulling or slapping and may reject the breast entirely or feed for very short periods of time because the flow of milk is not meeting his needs. To prevent that, observe the mother breastfeeding and guide her to improve the attachment right from the start when the baby is a newborn. Next, compress the breast. Compressing the breast will improve the flow of milk and keep the baby drinking. If the baby falls asleep quickly at the breast, compressing will start the milk to flow. The baby will start to swallow and wake up. As the milk comes, have the mother press her breast between her thumb and fingers as far back from the nipple as is comfortable. Pressure should be firm but not painful. Suggest she compress while the baby is sucking and rest while the baby is resting. If the baby is drinking well, there is no need to compress. And last, feed the baby often and well. In the early days after birth the baby will be hungry often, at least ten times between one sunrise and the next. A newborns stomach is small and breast milk is quickly digested. Encourage the mother to follow her baby's signals. He is able to tell her what he needs. Holding her baby skin to skin on her chest to start a feeding helps her baby to calm and organize himself. Teach the mother to respond to her baby's hunger signals. Sucking motions of his lips, bringing her hand to his mouth and turning his head from side to side. Encourage her to feed her baby whenever she sees his feeding signals day and night. There is no need to time how long the baby feeds or remember which breast he was last on. Some babies are fast feeders and others are slow. The baby will know when the flow on one breast has slowed and he is ready for the other side. As the flow of milk slows, the baby comes off the breast on his own. The mother holds her baby to her chest. As she patiently waits, her baby starts to signal his hunger. He was interested in going back on the breast twice more, full at last, the baby falls asleep and drops off the breast. At times the baby may suddenly want more milk than before. This is normal. It means the baby is growing and so is his hunger. As the mother follows her baby signals she will feed him more often and naturally increase her supply of milk. Do not give the baby water, sweetened water, tea, honey, breast milk substitutes or anything else. They can fill up the baby so he won't feed as much at the breast. This will reduce the mother's milk supply. They can also give the baby harmful germs and make him sick. Instead follow the baby's signals. Feed the baby often whenever she signals her hunger. After a few days of extra feeding as long as the baby is well attached and the mother is using compressions to make every feed effective, the mothers milk supply will grow to meet the baby's needs.\n",
      "Related keywords: breastfeeding supply, production, produce milk, improve supply of milk, milk expression, baby hunger, increase production, improve attachment.\n",
      "\n",
      "Score: 0.529283285\n",
      "Topic: Support breastfeeding\n",
      "URL: https://rhlaiservice2.blob.core.windows.net/hmbs-enc2/Support_Breastfeeding_CB.mp4\n",
      "Description: Teach the mother how to attach her baby, have her rub her nipple on his ribs and drip milk into his mouth. Be patient, when he opens wide have her bring him directly under her breast. Although the baby's mouth is naturally smaller he's still well attached. His mouth is wide open, his chin touches the breast and his cheeks are rounded. More areola is seen above the baby's mouth than below. The baby is drinking well, notice how his jaw drops and has a brief pause as he swallows. He is now able to coordinate suckling, swallowing and breathing. As the baby matures, his sucks will gradually become stronger and more regular, his attachment would be deeper and he will have the stamina for a full feed. The mother may feel him swallowing and her breast may feel softer after he feeds. With her baby held skin to skin, the mother can easily notice and respond to his hunger signals. She simply loosens the wrap and positions her baby near her nipple. She can also express her milk cup feed and tube feed while the baby is held closely.\n",
      "Related keywords: support breastfeeding, early breastfeeding, mouth, expression, suckling, drip milk, breastmilk, sucking.\n",
      "\n",
      "Score: 0.491187453\n",
      "Topic: Advise about home care\n",
      "URL: https://rhlaiservice2.blob.core.windows.net/hmbs-enc2/Advise_about_Home_Care_CB.mp4\n",
      "Description: Teach about care of the baby. First, talk about feeding. Show the family the baby's feeding cues, putting his fingers in his mouth and turning his head means he's hungry. Feed the baby whenever he's hungry, as much and as often as he wants, at least every 2 to 3 hours, day and night. Be sure the mother feels comfortable breastfeeding. If the baby is not well attached, show her how to improve the position and attachment of her baby. Advise that she give her baby only her milk for the first six months. No water, sweetened water, tea, honey, formula or anything else. Advise the family not to put anything on the baby's cord and keep it open to air. They should wash their hands before caring for the baby. There is no need to wash the baby every day, but they should keep his face and bottom clean. Talk about keeping the baby warm. Advise the way they dress him in an extra layer of clothing and a covering on his head. Recommend that the baby sleep on his back or his side, not on his belly. Keep the young baby away from smoke. If malaria is common, recommend using an insecticide treated bed net to prevent malaria in both the mother and baby. If the mother has HIV, be sure she gives her baby ARV medicine to protect him from becoming infected. Next, teach newborn danger signs - fast breathing, chest indrawing, the chest draws in with each breath, a cold body temperature the baby's belly and feet are cold compared to their own. A hot body temperature - the baby's body is hot to touch, not feeding the baby doesn't act hungry and may not wake up to feed. Lethargy, the baby only moves when stimulated. Convulsions, the baby may have unusual eye or mouth movements or repetitive jerking of the arms or legs. If any danger sign occurs in the mother or the baby, advise the family to bring them to the health facility right away, day or night. This could save their lives. The mother and baby need check ups and the baby needs vaccines. Recommend that they go to the health center two to three days after the birth, between seven and 14 days and six weeks after birth.\n",
      "Related keywords: feeding well, feeding, discharge, care at home, advice for home, back to sleep, sleep on back, discharge guidance, discharge advice, advise for care at home, vaccines, counseling parents, danger signs at home, hygiene, prevention, transition home, parents.\n",
      "\n"
     ]
    }
   ],
   "source": [
    "# Example query text\n",
    "query_text = \"Want to know about feeding baby milk\"\n",
    "\n",
    "# Generate embedding for the query\n",
    "query_embedding = get_embedding(query_text)\n",
    "\n",
    "# Query Pinecone index\n",
    "results = index.query(\n",
    "    vector=query_embedding,\n",
    "    top_k=5,\n",
    "    include_metadata=True\n",
    ")\n",
    "\n",
    "# Display the results\n",
    "for match in results['matches']:\n",
    "    print(f\"Score: {match['score']}\")\n",
    "    print(f\"Topic: {match['metadata']['Topic']}\")\n",
    "    print(f\"URL: {match['metadata']['Video URL']}\")\n",
    "    print(f\"Description: {match['metadata']['Description']}\\n\")"
   ]
  }
 ],
 "metadata": {
  "kernelspec": {
   "display_name": "Python 3",
   "language": "python",
   "name": "python3"
  },
  "language_info": {
   "codemirror_mode": {
    "name": "ipython",
    "version": 3
   },
   "file_extension": ".py",
   "mimetype": "text/x-python",
   "name": "python",
   "nbconvert_exporter": "python",
   "pygments_lexer": "ipython3",
   "version": "3.9.6"
  }
 },
 "nbformat": 4,
 "nbformat_minor": 2
}
